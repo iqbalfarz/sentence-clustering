{
 "cells": [
  {
   "cell_type": "markdown",
   "metadata": {},
   "source": [
    "## Training Word2Vec on amazon reviews dataset\n",
    "\n",
    "- I have trained the Word2Vec model on amazon reviews dataset containing 3M sentences.\n",
    "- I used Kaggle notebook to train as they provide 30GB RAM.\n",
    "- Please use kaggle notebook to train the Word2Vec model.\n",
    "\n",
    "- After training Word2Vec, I fine-tuned it on our `clustering.xlsx` dataset.\n",
    "- After training Word2Vec and fine-tuning save the model and download to the local system to use it further.\n",
    "- Download the Word2Vec model to this path: `../dataset/word2vec/clustering_word2vec.model`\n",
    "\n",
    "#### How to train?\n",
    "- Go to this link: [Click to go!](https://www.kaggle.com/datasets/kritanjalijain/amazon-reviews)\n",
    "- And create a notebook OR upload this notebook and run it.\n",
    "- To fine-tune on `clustering.xlsx`. please upload the `clustering.xlsx` data to the Kaggle drive (space)."
   ]
  },
  {
   "cell_type": "code",
   "execution_count": 1,
   "metadata": {
    "_cell_guid": "b1076dfc-b9ad-4769-8c92-a6c4dae69d19",
    "_uuid": "8f2839f25d086af736a60e9eeb907d3b93b6e0e5",
    "execution": {
     "iopub.execute_input": "2022-10-26T00:37:44.854644Z",
     "iopub.status.busy": "2022-10-26T00:37:44.854182Z",
     "iopub.status.idle": "2022-10-26T00:37:44.895218Z",
     "shell.execute_reply": "2022-10-26T00:37:44.894140Z",
     "shell.execute_reply.started": "2022-10-26T00:37:44.854559Z"
    }
   },
   "outputs": [
    {
     "name": "stdout",
     "output_type": "stream",
     "text": [
      "/kaggle/input/amazon-reviews/amazon_review_polarity_csv.tgz\n",
      "/kaggle/input/amazon-reviews/train.csv\n",
      "/kaggle/input/amazon-reviews/test.csv\n"
     ]
    }
   ],
   "source": [
    "# This Python 3 environment comes with many helpful analytics libraries installed\n",
    "# It is defined by the kaggle/python Docker image: https://github.com/kaggle/docker-python\n",
    "# For example, here's several helpful packages to load\n",
    "\n",
    "import numpy as np # linear algebra\n",
    "import pandas as pd # data processing, CSV file I/O (e.g. pd.read_csv)\n",
    "\n",
    "# Input data files are available in the read-only \"../input/\" directory\n",
    "# For example, running this (by clicking run or pressing Shift+Enter) will list all files under the input directory\n",
    "\n",
    "import os\n",
    "for dirname, _, filenames in os.walk('/kaggle/input'):\n",
    "    for filename in filenames:\n",
    "        print(os.path.join(dirname, filename))\n",
    "\n",
    "# You can write up to 20GB to the current directory (/kaggle/working/) that gets preserved as output when you create a version using \"Save & Run All\" \n",
    "# You can also write temporary files to /kaggle/temp/, but they won't be saved outside of the current session"
   ]
  },
  {
   "cell_type": "code",
   "execution_count": 2,
   "metadata": {
    "execution": {
     "iopub.execute_input": "2022-10-26T00:37:45.336498Z",
     "iopub.status.busy": "2022-10-26T00:37:45.335950Z",
     "iopub.status.idle": "2022-10-26T00:38:24.532120Z",
     "shell.execute_reply": "2022-10-26T00:38:24.530782Z",
     "shell.execute_reply.started": "2022-10-26T00:37:45.336447Z"
    }
   },
   "outputs": [
    {
     "data": {
      "text/html": [
       "<div>\n",
       "<style scoped>\n",
       "    .dataframe tbody tr th:only-of-type {\n",
       "        vertical-align: middle;\n",
       "    }\n",
       "\n",
       "    .dataframe tbody tr th {\n",
       "        vertical-align: top;\n",
       "    }\n",
       "\n",
       "    .dataframe thead th {\n",
       "        text-align: right;\n",
       "    }\n",
       "</style>\n",
       "<table border=\"1\" class=\"dataframe\">\n",
       "  <thead>\n",
       "    <tr style=\"text-align: right;\">\n",
       "      <th></th>\n",
       "      <th>text</th>\n",
       "    </tr>\n",
       "  </thead>\n",
       "  <tbody>\n",
       "    <tr>\n",
       "      <th>0</th>\n",
       "      <td>This sound track was beautiful! It paints the ...</td>\n",
       "    </tr>\n",
       "    <tr>\n",
       "      <th>1</th>\n",
       "      <td>I'm reading a lot of reviews saying that this ...</td>\n",
       "    </tr>\n",
       "    <tr>\n",
       "      <th>2</th>\n",
       "      <td>This soundtrack is my favorite music of all ti...</td>\n",
       "    </tr>\n",
       "    <tr>\n",
       "      <th>3</th>\n",
       "      <td>I truly like this soundtrack and I enjoy video...</td>\n",
       "    </tr>\n",
       "    <tr>\n",
       "      <th>4</th>\n",
       "      <td>If you've played the game, you know how divine...</td>\n",
       "    </tr>\n",
       "  </tbody>\n",
       "</table>\n",
       "</div>"
      ],
      "text/plain": [
       "                                                text\n",
       "0  This sound track was beautiful! It paints the ...\n",
       "1  I'm reading a lot of reviews saying that this ...\n",
       "2  This soundtrack is my favorite music of all ti...\n",
       "3  I truly like this soundtrack and I enjoy video...\n",
       "4  If you've played the game, you know how divine..."
      ]
     },
     "execution_count": 2,
     "metadata": {},
     "output_type": "execute_result"
    }
   ],
   "source": [
    "import pandas as pd\n",
    "dataset = pd.read_csv(\"/kaggle/input/amazon-reviews/train.csv\",names=[\"polarity\",\"summary\",\"text\"], header=None)\n",
    "dataset = dataset[[\"text\"]]\n",
    "dataset.head()"
   ]
  },
  {
   "cell_type": "markdown",
   "metadata": {},
   "source": [
    "#### pre-process dataset"
   ]
  },
  {
   "cell_type": "code",
   "execution_count": 3,
   "metadata": {
    "execution": {
     "iopub.execute_input": "2022-10-26T00:38:24.534958Z",
     "iopub.status.busy": "2022-10-26T00:38:24.534501Z",
     "iopub.status.idle": "2022-10-26T00:38:25.403158Z",
     "shell.execute_reply": "2022-10-26T00:38:25.402072Z",
     "shell.execute_reply.started": "2022-10-26T00:38:24.534913Z"
    }
   },
   "outputs": [],
   "source": [
    "import gensim"
   ]
  },
  {
   "cell_type": "code",
   "execution_count": 4,
   "metadata": {
    "execution": {
     "iopub.execute_input": "2022-10-26T00:38:25.407803Z",
     "iopub.status.busy": "2022-10-26T00:38:25.405925Z",
     "iopub.status.idle": "2022-10-26T00:44:20.587848Z",
     "shell.execute_reply": "2022-10-26T00:44:20.586695Z",
     "shell.execute_reply.started": "2022-10-26T00:38:25.407757Z"
    }
   },
   "outputs": [
    {
     "name": "stdout",
     "output_type": "stream",
     "text": [
      "time taken to preprocess text: 355.1740491390228\n"
     ]
    }
   ],
   "source": [
    "from time import time\n",
    "t0 = time()\n",
    "dataset[\"text\"] = dataset[\"text\"].apply(gensim.utils.simple_preprocess)\n",
    "print(f\"time taken to preprocess text: {time() - t0}\")"
   ]
  },
  {
   "cell_type": "code",
   "execution_count": 5,
   "metadata": {
    "execution": {
     "iopub.execute_input": "2022-10-26T00:44:20.592519Z",
     "iopub.status.busy": "2022-10-26T00:44:20.592118Z",
     "iopub.status.idle": "2022-10-26T00:44:20.607736Z",
     "shell.execute_reply": "2022-10-26T00:44:20.606460Z",
     "shell.execute_reply.started": "2022-10-26T00:44:20.592481Z"
    }
   },
   "outputs": [
    {
     "data": {
      "text/html": [
       "<div>\n",
       "<style scoped>\n",
       "    .dataframe tbody tr th:only-of-type {\n",
       "        vertical-align: middle;\n",
       "    }\n",
       "\n",
       "    .dataframe tbody tr th {\n",
       "        vertical-align: top;\n",
       "    }\n",
       "\n",
       "    .dataframe thead th {\n",
       "        text-align: right;\n",
       "    }\n",
       "</style>\n",
       "<table border=\"1\" class=\"dataframe\">\n",
       "  <thead>\n",
       "    <tr style=\"text-align: right;\">\n",
       "      <th></th>\n",
       "      <th>text</th>\n",
       "    </tr>\n",
       "  </thead>\n",
       "  <tbody>\n",
       "    <tr>\n",
       "      <th>0</th>\n",
       "      <td>[this, sound, track, was, beautiful, it, paint...</td>\n",
       "    </tr>\n",
       "    <tr>\n",
       "      <th>1</th>\n",
       "      <td>[reading, lot, of, reviews, saying, that, this...</td>\n",
       "    </tr>\n",
       "    <tr>\n",
       "      <th>2</th>\n",
       "      <td>[this, soundtrack, is, my, favorite, music, of...</td>\n",
       "    </tr>\n",
       "    <tr>\n",
       "      <th>3</th>\n",
       "      <td>[truly, like, this, soundtrack, and, enjoy, vi...</td>\n",
       "    </tr>\n",
       "    <tr>\n",
       "      <th>4</th>\n",
       "      <td>[if, you, ve, played, the, game, you, know, ho...</td>\n",
       "    </tr>\n",
       "  </tbody>\n",
       "</table>\n",
       "</div>"
      ],
      "text/plain": [
       "                                                text\n",
       "0  [this, sound, track, was, beautiful, it, paint...\n",
       "1  [reading, lot, of, reviews, saying, that, this...\n",
       "2  [this, soundtrack, is, my, favorite, music, of...\n",
       "3  [truly, like, this, soundtrack, and, enjoy, vi...\n",
       "4  [if, you, ve, played, the, game, you, know, ho..."
      ]
     },
     "execution_count": 5,
     "metadata": {},
     "output_type": "execute_result"
    }
   ],
   "source": [
    "dataset.head()"
   ]
  },
  {
   "cell_type": "markdown",
   "metadata": {},
   "source": [
    "#### fine-tune Word2Vec on current dataset"
   ]
  },
  {
   "cell_type": "code",
   "execution_count": 6,
   "metadata": {
    "execution": {
     "iopub.execute_input": "2022-10-26T00:44:20.610629Z",
     "iopub.status.busy": "2022-10-26T00:44:20.609400Z",
     "iopub.status.idle": "2022-10-26T00:45:45.512515Z",
     "shell.execute_reply": "2022-10-26T00:45:45.510913Z",
     "shell.execute_reply.started": "2022-10-26T00:44:20.610564Z"
    }
   },
   "outputs": [
    {
     "name": "stdout",
     "output_type": "stream",
     "text": [
      "time taken to build vocab: 84.88864254951477\n"
     ]
    }
   ],
   "source": [
    "model = gensim.models.Word2Vec(\n",
    "    window = 10,\n",
    "    vector_size = 300,\n",
    "    min_count = 1,\n",
    "    epochs=10,\n",
    ")\n",
    "t0 = time()\n",
    "model.build_vocab(dataset[\"text\"])\n",
    "print(f\"time taken to build vocab: {time()-t0}\")"
   ]
  },
  {
   "cell_type": "code",
   "execution_count": 7,
   "metadata": {
    "execution": {
     "iopub.execute_input": "2022-10-26T00:45:45.516813Z",
     "iopub.status.busy": "2022-10-26T00:45:45.516427Z",
     "iopub.status.idle": "2022-10-26T00:45:45.524714Z",
     "shell.execute_reply": "2022-10-26T00:45:45.523399Z",
     "shell.execute_reply.started": "2022-10-26T00:45:45.516778Z"
    }
   },
   "outputs": [
    {
     "data": {
      "text/plain": [
       "823220"
      ]
     },
     "execution_count": 7,
     "metadata": {},
     "output_type": "execute_result"
    }
   ],
   "source": [
    "len(model.wv)"
   ]
  },
  {
   "cell_type": "markdown",
   "metadata": {},
   "source": [
    "#### run the word2vec model"
   ]
  },
  {
   "cell_type": "code",
   "execution_count": 8,
   "metadata": {
    "execution": {
     "iopub.execute_input": "2022-10-26T00:45:45.527151Z",
     "iopub.status.busy": "2022-10-26T00:45:45.526605Z",
     "iopub.status.idle": "2022-10-26T00:45:45.597220Z",
     "shell.execute_reply": "2022-10-26T00:45:45.595900Z",
     "shell.execute_reply.started": "2022-10-26T00:45:45.527105Z"
    }
   },
   "outputs": [
    {
     "data": {
      "text/plain": [
       "(3600000, 10)"
      ]
     },
     "execution_count": 8,
     "metadata": {},
     "output_type": "execute_result"
    }
   ],
   "source": [
    "model.corpus_count, model.epochs"
   ]
  },
  {
   "cell_type": "code",
   "execution_count": 9,
   "metadata": {
    "execution": {
     "iopub.execute_input": "2022-10-26T00:45:45.601080Z",
     "iopub.status.busy": "2022-10-26T00:45:45.600168Z",
     "iopub.status.idle": "2022-10-26T01:51:59.836914Z",
     "shell.execute_reply": "2022-10-26T01:51:59.835661Z",
     "shell.execute_reply.started": "2022-10-26T00:45:45.601025Z"
    }
   },
   "outputs": [
    {
     "name": "stdout",
     "output_type": "stream",
     "text": [
      "time taken to train the Word2Vec model: 3974.2294974327087\n"
     ]
    }
   ],
   "source": [
    "t0 = time()\n",
    "model.train(dataset[\"text\"], total_examples=model.corpus_count, epochs=model.epochs)\n",
    "print(f\"time taken to train the Word2Vec model: {time()-t0}\")"
   ]
  },
  {
   "cell_type": "code",
   "execution_count": 10,
   "metadata": {
    "execution": {
     "iopub.execute_input": "2022-10-26T01:51:59.841239Z",
     "iopub.status.busy": "2022-10-26T01:51:59.839595Z",
     "iopub.status.idle": "2022-10-26T01:51:59.848165Z",
     "shell.execute_reply": "2022-10-26T01:51:59.846784Z",
     "shell.execute_reply.started": "2022-10-26T01:51:59.841153Z"
    }
   },
   "outputs": [],
   "source": [
    "# from gensim.models import Word2Vec\n",
    "# sentences = dataset[\"text\"]\n",
    "\n",
    "# model = Word2Vec(min_count=1)\n",
    "# model.build_vocab(sentences)  # prepare the model vocabulary\n",
    "# model.train(sentences, total_examples=model.corpus_count, epochs=1)"
   ]
  },
  {
   "cell_type": "code",
   "execution_count": 11,
   "metadata": {
    "execution": {
     "iopub.execute_input": "2022-10-26T01:51:59.853010Z",
     "iopub.status.busy": "2022-10-26T01:51:59.852181Z",
     "iopub.status.idle": "2022-10-26T01:52:03.708490Z",
     "shell.execute_reply": "2022-10-26T01:52:03.706553Z",
     "shell.execute_reply.started": "2022-10-26T01:51:59.852959Z"
    }
   },
   "outputs": [],
   "source": [
    "model.save(\"./review_word2vec.model\")"
   ]
  },
  {
   "cell_type": "markdown",
   "metadata": {},
   "source": [
    "#### Saving model in binary format"
   ]
  },
  {
   "cell_type": "code",
   "execution_count": 53,
   "metadata": {
    "execution": {
     "iopub.execute_input": "2022-10-26T03:10:30.703441Z",
     "iopub.status.busy": "2022-10-26T03:10:30.703046Z",
     "iopub.status.idle": "2022-10-26T03:10:39.673565Z",
     "shell.execute_reply": "2022-10-26T03:10:39.672566Z",
     "shell.execute_reply.started": "2022-10-26T03:10:30.703409Z"
    }
   },
   "outputs": [],
   "source": [
    "model.wv.save_word2vec_format(\"model.bin\", binary=True)"
   ]
  },
  {
   "cell_type": "code",
   "execution_count": null,
   "metadata": {},
   "outputs": [],
   "source": []
  },
  {
   "cell_type": "code",
   "execution_count": 18,
   "metadata": {
    "execution": {
     "iopub.execute_input": "2022-10-26T02:24:34.045659Z",
     "iopub.status.busy": "2022-10-26T02:24:34.045237Z",
     "iopub.status.idle": "2022-10-26T02:24:34.128491Z",
     "shell.execute_reply": "2022-10-26T02:24:34.126907Z",
     "shell.execute_reply.started": "2022-10-26T02:24:34.045625Z"
    }
   },
   "outputs": [
    {
     "data": {
      "text/plain": [
       "[('islamic', 0.8006618022918701),\n",
       " ('christianity', 0.7927968502044678),\n",
       " ('muslims', 0.7710422277450562),\n",
       " ('muslim', 0.7656044960021973),\n",
       " ('judaism', 0.7236652374267578),\n",
       " ('catholicism', 0.7124875783920288),\n",
       " ('religion', 0.6957213878631592),\n",
       " ('mormonism', 0.6921664476394653),\n",
       " ('fundamentalism', 0.684215247631073),\n",
       " ('religions', 0.6679003238677979)]"
      ]
     },
     "execution_count": 18,
     "metadata": {},
     "output_type": "execute_result"
    }
   ],
   "source": [
    "model.wv.most_similar(\"islam\")"
   ]
  },
  {
   "cell_type": "code",
   "execution_count": 19,
   "metadata": {
    "execution": {
     "iopub.execute_input": "2022-10-26T02:38:19.759071Z",
     "iopub.status.busy": "2022-10-26T02:38:19.757938Z",
     "iopub.status.idle": "2022-10-26T02:38:19.766914Z",
     "shell.execute_reply": "2022-10-26T02:38:19.765800Z",
     "shell.execute_reply.started": "2022-10-26T02:38:19.759026Z"
    }
   },
   "outputs": [
    {
     "data": {
      "text/plain": [
       "0.6559979915618896"
      ]
     },
     "execution_count": 19,
     "metadata": {},
     "output_type": "execute_result"
    }
   ],
   "source": [
    "model.wv.distance(\"good\",\"best\")"
   ]
  },
  {
   "cell_type": "code",
   "execution_count": 20,
   "metadata": {
    "execution": {
     "iopub.execute_input": "2022-10-26T02:38:41.684347Z",
     "iopub.status.busy": "2022-10-26T02:38:41.683912Z",
     "iopub.status.idle": "2022-10-26T02:38:41.692895Z",
     "shell.execute_reply": "2022-10-26T02:38:41.691650Z",
     "shell.execute_reply.started": "2022-10-26T02:38:41.684311Z"
    }
   },
   "outputs": [
    {
     "data": {
      "text/plain": [
       "0.6876093447208405"
      ]
     },
     "execution_count": 20,
     "metadata": {},
     "output_type": "execute_result"
    }
   ],
   "source": [
    "model.wv.distance(\"king\",\"man\")"
   ]
  },
  {
   "cell_type": "code",
   "execution_count": 23,
   "metadata": {
    "execution": {
     "iopub.execute_input": "2022-10-26T02:39:05.928793Z",
     "iopub.status.busy": "2022-10-26T02:39:05.927897Z",
     "iopub.status.idle": "2022-10-26T02:39:05.937549Z",
     "shell.execute_reply": "2022-10-26T02:39:05.936197Z",
     "shell.execute_reply.started": "2022-10-26T02:39:05.928738Z"
    }
   },
   "outputs": [
    {
     "data": {
      "text/plain": [
       "1.0023832756560296"
      ]
     },
     "execution_count": 23,
     "metadata": {},
     "output_type": "execute_result"
    }
   ],
   "source": [
    "model.wv.distance(\"king\",\"women\")"
   ]
  },
  {
   "cell_type": "code",
   "execution_count": 26,
   "metadata": {
    "execution": {
     "iopub.execute_input": "2022-10-26T02:41:14.921532Z",
     "iopub.status.busy": "2022-10-26T02:41:14.921109Z",
     "iopub.status.idle": "2022-10-26T02:41:14.928829Z",
     "shell.execute_reply": "2022-10-26T02:41:14.927972Z",
     "shell.execute_reply.started": "2022-10-26T02:41:14.921498Z"
    }
   },
   "outputs": [
    {
     "data": {
      "text/plain": [
       "0.995308366138488"
      ]
     },
     "execution_count": 26,
     "metadata": {},
     "output_type": "execute_result"
    }
   ],
   "source": [
    "model.wv.distance(\"man\", \"chair\")"
   ]
  },
  {
   "cell_type": "code",
   "execution_count": 27,
   "metadata": {
    "execution": {
     "iopub.execute_input": "2022-10-26T02:41:27.497602Z",
     "iopub.status.busy": "2022-10-26T02:41:27.497192Z",
     "iopub.status.idle": "2022-10-26T02:41:27.506032Z",
     "shell.execute_reply": "2022-10-26T02:41:27.504730Z",
     "shell.execute_reply.started": "2022-10-26T02:41:27.497570Z"
    }
   },
   "outputs": [
    {
     "data": {
      "text/plain": [
       "0.54062619805336"
      ]
     },
     "execution_count": 27,
     "metadata": {},
     "output_type": "execute_result"
    }
   ],
   "source": [
    "model.wv.distance(\"table\",\"chair\")"
   ]
  },
  {
   "cell_type": "code",
   "execution_count": 39,
   "metadata": {
    "execution": {
     "iopub.execute_input": "2022-10-26T02:45:01.746878Z",
     "iopub.status.busy": "2022-10-26T02:45:01.746320Z",
     "iopub.status.idle": "2022-10-26T02:45:01.755148Z",
     "shell.execute_reply": "2022-10-26T02:45:01.753896Z",
     "shell.execute_reply.started": "2022-10-26T02:45:01.746818Z"
    }
   },
   "outputs": [
    {
     "data": {
      "text/plain": [
       "823220"
      ]
     },
     "execution_count": 39,
     "metadata": {},
     "output_type": "execute_result"
    }
   ],
   "source": [
    "len(model.wv)"
   ]
  },
  {
   "cell_type": "markdown",
   "metadata": {},
   "source": [
    "## Fine-tuning trained Word2Vec on our own dataset"
   ]
  },
  {
   "cell_type": "markdown",
   "metadata": {},
   "source": [
    "#### 1. Craete a Word2Vecc model\n",
    "With the same vector size as pretrained model"
   ]
  },
  {
   "cell_type": "code",
   "execution_count": 41,
   "metadata": {
    "execution": {
     "iopub.execute_input": "2022-10-26T02:52:22.244161Z",
     "iopub.status.busy": "2022-10-26T02:52:22.243326Z",
     "iopub.status.idle": "2022-10-26T02:52:22.251539Z",
     "shell.execute_reply": "2022-10-26T02:52:22.250475Z",
     "shell.execute_reply.started": "2022-10-26T02:52:22.244112Z"
    }
   },
   "outputs": [],
   "source": [
    "new_model = gensim.models.Word2Vec(\n",
    "    vector_size=300,\n",
    "    min_count=1,\n",
    "    epochs=20,\n",
    "    window=10,\n",
    ")"
   ]
  },
  {
   "cell_type": "markdown",
   "metadata": {},
   "source": [
    "#### 2. Build the vocabulary for the new corpus"
   ]
  },
  {
   "cell_type": "markdown",
   "metadata": {},
   "source": [
    "##### load the dataset"
   ]
  },
  {
   "cell_type": "code",
   "execution_count": 47,
   "metadata": {
    "execution": {
     "iopub.execute_input": "2022-10-26T02:58:53.032038Z",
     "iopub.status.busy": "2022-10-26T02:58:53.031574Z",
     "iopub.status.idle": "2022-10-26T02:59:07.145562Z",
     "shell.execute_reply": "2022-10-26T02:59:07.144142Z",
     "shell.execute_reply.started": "2022-10-26T02:58:53.031997Z"
    }
   },
   "outputs": [
    {
     "data": {
      "text/html": [
       "<div>\n",
       "<style scoped>\n",
       "    .dataframe tbody tr th:only-of-type {\n",
       "        vertical-align: middle;\n",
       "    }\n",
       "\n",
       "    .dataframe tbody tr th {\n",
       "        vertical-align: top;\n",
       "    }\n",
       "\n",
       "    .dataframe thead th {\n",
       "        text-align: right;\n",
       "    }\n",
       "</style>\n",
       "<table border=\"1\" class=\"dataframe\">\n",
       "  <thead>\n",
       "    <tr style=\"text-align: right;\">\n",
       "      <th></th>\n",
       "      <th>Text</th>\n",
       "    </tr>\n",
       "  </thead>\n",
       "  <tbody>\n",
       "    <tr>\n",
       "      <th>0</th>\n",
       "      <td>Moeller's student-run newspaper, The Crusader,...</td>\n",
       "    </tr>\n",
       "    <tr>\n",
       "      <th>1</th>\n",
       "      <td>In 2008, The Crusader won First Place, the sec...</td>\n",
       "    </tr>\n",
       "    <tr>\n",
       "      <th>2</th>\n",
       "      <td>The Squire is a student literary journal that ...</td>\n",
       "    </tr>\n",
       "    <tr>\n",
       "      <th>3</th>\n",
       "      <td>Paul Keels - play-by-play announcer for Ohio S...</td>\n",
       "    </tr>\n",
       "    <tr>\n",
       "      <th>4</th>\n",
       "      <td>Joe Uecker - Ohio State Senator (R-66) .</td>\n",
       "    </tr>\n",
       "  </tbody>\n",
       "</table>\n",
       "</div>"
      ],
      "text/plain": [
       "                                                Text\n",
       "0  Moeller's student-run newspaper, The Crusader,...\n",
       "1  In 2008, The Crusader won First Place, the sec...\n",
       "2  The Squire is a student literary journal that ...\n",
       "3  Paul Keels - play-by-play announcer for Ohio S...\n",
       "4           Joe Uecker - Ohio State Senator (R-66) ."
      ]
     },
     "execution_count": 47,
     "metadata": {},
     "output_type": "execute_result"
    }
   ],
   "source": [
    "sentences = pd.read_excel(open(\"/kaggle/input/sentence-clustering/clustering.xlsx\", \"rb\"))\n",
    "sentences = sentences[[\"Text\"]]\n",
    "sentences.head()"
   ]
  },
  {
   "cell_type": "markdown",
   "metadata": {},
   "source": [
    "##### preprocess the dataset"
   ]
  },
  {
   "cell_type": "code",
   "execution_count": 48,
   "metadata": {
    "execution": {
     "iopub.execute_input": "2022-10-26T03:01:32.432588Z",
     "iopub.status.busy": "2022-10-26T03:01:32.431640Z",
     "iopub.status.idle": "2022-10-26T03:01:33.909714Z",
     "shell.execute_reply": "2022-10-26T03:01:33.908813Z",
     "shell.execute_reply.started": "2022-10-26T03:01:32.432543Z"
    }
   },
   "outputs": [
    {
     "name": "stdout",
     "output_type": "stream",
     "text": [
      "time taken to preprocess the dataset: 1.4718668460845947\n"
     ]
    }
   ],
   "source": [
    "t0 = time()\n",
    "sentences[\"Text\"] = sentences[\"Text\"].apply(gensim.utils.simple_preprocess)\n",
    "print(f\"time taken to preprocess the dataset: {time()-t0}\")"
   ]
  },
  {
   "cell_type": "code",
   "execution_count": 59,
   "metadata": {
    "execution": {
     "iopub.execute_input": "2022-10-26T03:16:44.742453Z",
     "iopub.status.busy": "2022-10-26T03:16:44.742095Z",
     "iopub.status.idle": "2022-10-26T03:16:44.754916Z",
     "shell.execute_reply": "2022-10-26T03:16:44.753782Z",
     "shell.execute_reply.started": "2022-10-26T03:16:44.742420Z"
    }
   },
   "outputs": [
    {
     "data": {
      "text/html": [
       "<div>\n",
       "<style scoped>\n",
       "    .dataframe tbody tr th:only-of-type {\n",
       "        vertical-align: middle;\n",
       "    }\n",
       "\n",
       "    .dataframe tbody tr th {\n",
       "        vertical-align: top;\n",
       "    }\n",
       "\n",
       "    .dataframe thead th {\n",
       "        text-align: right;\n",
       "    }\n",
       "</style>\n",
       "<table border=\"1\" class=\"dataframe\">\n",
       "  <thead>\n",
       "    <tr style=\"text-align: right;\">\n",
       "      <th></th>\n",
       "      <th>Text</th>\n",
       "    </tr>\n",
       "  </thead>\n",
       "  <tbody>\n",
       "    <tr>\n",
       "      <th>0</th>\n",
       "      <td>[moeller, student, run, newspaper, the, crusad...</td>\n",
       "    </tr>\n",
       "    <tr>\n",
       "      <th>1</th>\n",
       "      <td>[in, the, crusader, won, first, place, the, se...</td>\n",
       "    </tr>\n",
       "    <tr>\n",
       "      <th>2</th>\n",
       "      <td>[the, squire, is, student, literary, journal, ...</td>\n",
       "    </tr>\n",
       "    <tr>\n",
       "      <th>3</th>\n",
       "      <td>[paul, keels, play, by, play, announcer, for, ...</td>\n",
       "    </tr>\n",
       "    <tr>\n",
       "      <th>4</th>\n",
       "      <td>[joe, uecker, ohio, state, senator]</td>\n",
       "    </tr>\n",
       "  </tbody>\n",
       "</table>\n",
       "</div>"
      ],
      "text/plain": [
       "                                                Text\n",
       "0  [moeller, student, run, newspaper, the, crusad...\n",
       "1  [in, the, crusader, won, first, place, the, se...\n",
       "2  [the, squire, is, student, literary, journal, ...\n",
       "3  [paul, keels, play, by, play, announcer, for, ...\n",
       "4                [joe, uecker, ohio, state, senator]"
      ]
     },
     "execution_count": 59,
     "metadata": {},
     "output_type": "execute_result"
    }
   ],
   "source": [
    "sentences.head()"
   ]
  },
  {
   "cell_type": "code",
   "execution_count": 49,
   "metadata": {
    "execution": {
     "iopub.execute_input": "2022-10-26T03:02:30.900915Z",
     "iopub.status.busy": "2022-10-26T03:02:30.900458Z",
     "iopub.status.idle": "2022-10-26T03:02:32.685748Z",
     "shell.execute_reply": "2022-10-26T03:02:32.684533Z",
     "shell.execute_reply.started": "2022-10-26T03:02:30.900877Z"
    }
   },
   "outputs": [
    {
     "name": "stdout",
     "output_type": "stream",
     "text": [
      "time taken to build vocab of the dataset: 1.77947998046875\n"
     ]
    }
   ],
   "source": [
    "t0 = time()\n",
    "new_model.build_vocab(sentences[\"Text\"])\n",
    "print(f\"time taken to build vocab of the dataset: {time()-t0}\")"
   ]
  },
  {
   "cell_type": "markdown",
   "metadata": {},
   "source": [
    "#### 3. Create a vector of ones\n",
    "that determine the mutability of the pretrained vectors. In the previous Gensim versions, this used to be a single lockf argument to the intersect_word2vec_format function. Using a vector of ones ensures that all the words in the vocabulary are updated during fine-tuning"
   ]
  },
  {
   "cell_type": "code",
   "execution_count": 50,
   "metadata": {
    "execution": {
     "iopub.execute_input": "2022-10-26T03:04:29.712312Z",
     "iopub.status.busy": "2022-10-26T03:04:29.711881Z",
     "iopub.status.idle": "2022-10-26T03:04:29.717788Z",
     "shell.execute_reply": "2022-10-26T03:04:29.716893Z",
     "shell.execute_reply.started": "2022-10-26T03:04:29.712276Z"
    }
   },
   "outputs": [],
   "source": [
    "import numpy as np\n",
    "new_model.wv.vectors_lockf = np.ones(len(new_model.wv))"
   ]
  },
  {
   "cell_type": "markdown",
   "metadata": {},
   "source": [
    "#### 4. Perform a vocabulary intersection using\n",
    "intersect_word2vec_format function to initialize the new embeddings with the pretrained embeddings for the words that are in the pretraining vocabulary. I am quoting from the official Gensim documentation as follows intersect_word2vec_format\n",
    "\n",
    ">Merge in an input-hidden weight matrix loaded from the original C word2vec-tool format, where it intersects with the current vocabulary.\n",
    "\n",
    ">No words are added to the existing vocabulary, but intersecting words adopt the file’s weights, and non-intersecting words are left alone."
   ]
  },
  {
   "cell_type": "code",
   "execution_count": 54,
   "metadata": {
    "execution": {
     "iopub.execute_input": "2022-10-26T03:11:18.427831Z",
     "iopub.status.busy": "2022-10-26T03:11:18.427310Z",
     "iopub.status.idle": "2022-10-26T03:11:26.002633Z",
     "shell.execute_reply": "2022-10-26T03:11:26.001105Z",
     "shell.execute_reply.started": "2022-10-26T03:11:18.427788Z"
    }
   },
   "outputs": [],
   "source": [
    "new_model.wv.intersect_word2vec_format(\"./model.bin\", binary=True)"
   ]
  },
  {
   "cell_type": "markdown",
   "metadata": {},
   "source": [
    "#### 5. Train the new model"
   ]
  },
  {
   "cell_type": "code",
   "execution_count": 56,
   "metadata": {
    "execution": {
     "iopub.execute_input": "2022-10-26T03:15:02.969679Z",
     "iopub.status.busy": "2022-10-26T03:15:02.969245Z",
     "iopub.status.idle": "2022-10-26T03:15:29.677854Z",
     "shell.execute_reply": "2022-10-26T03:15:29.676600Z",
     "shell.execute_reply.started": "2022-10-26T03:15:02.969647Z"
    }
   },
   "outputs": [
    {
     "name": "stdout",
     "output_type": "stream",
     "text": [
      "Time taken to fine-tune clustering sentence corpus: 26.70268726348877\n"
     ]
    }
   ],
   "source": [
    "t0 = time()\n",
    "new_model.train(sentences[\"Text\"], total_examples=new_model.corpus_count, epochs=new_model.epochs)\n",
    "print(f\"Time taken to fine-tune clustering sentence corpus: {time()-t0}\")"
   ]
  },
  {
   "cell_type": "code",
   "execution_count": 64,
   "metadata": {
    "execution": {
     "iopub.execute_input": "2022-10-26T03:19:45.895184Z",
     "iopub.status.busy": "2022-10-26T03:19:45.894510Z",
     "iopub.status.idle": "2022-10-26T03:19:45.938267Z",
     "shell.execute_reply": "2022-10-26T03:19:45.936893Z",
     "shell.execute_reply.started": "2022-10-26T03:19:45.895143Z"
    }
   },
   "outputs": [
    {
     "data": {
      "text/plain": [
       "[('simon', 0.5700941681861877),\n",
       " ('pauls', 0.5690290927886963),\n",
       " ('john', 0.5652545690536499),\n",
       " ('adrian', 0.5583145618438721),\n",
       " ('brian', 0.5408787727355957),\n",
       " ('lester', 0.5309159755706787),\n",
       " ('patrick', 0.5303022265434265),\n",
       " ('richard', 0.5258485674858093),\n",
       " ('peter', 0.5240234732627869),\n",
       " ('joseph', 0.5191812515258789)]"
      ]
     },
     "execution_count": 64,
     "metadata": {},
     "output_type": "execute_result"
    }
   ],
   "source": [
    "new_model.wv.most_similar(\"paul\")"
   ]
  },
  {
   "cell_type": "code",
   "execution_count": 60,
   "metadata": {
    "execution": {
     "iopub.execute_input": "2022-10-26T03:17:04.867278Z",
     "iopub.status.busy": "2022-10-26T03:17:04.866353Z",
     "iopub.status.idle": "2022-10-26T03:17:04.950300Z",
     "shell.execute_reply": "2022-10-26T03:17:04.949110Z",
     "shell.execute_reply.started": "2022-10-26T03:17:04.867230Z"
    }
   },
   "outputs": [
    {
     "data": {
      "text/plain": [
       "[('caped', 0.6418017148971558),\n",
       " ('tyrant', 0.612069845199585),\n",
       " ('warlord', 0.5712436437606812),\n",
       " ('stronghold', 0.5492900609970093),\n",
       " ('mercenary', 0.5314666628837585),\n",
       " ('warriors', 0.5216918587684631),\n",
       " ('swordsman', 0.5211747288703918),\n",
       " ('tyrannical', 0.5182375311851501),\n",
       " ('warrior', 0.5182107090950012),\n",
       " ('barbarians', 0.5135986804962158)]"
      ]
     },
     "execution_count": 60,
     "metadata": {},
     "output_type": "execute_result"
    }
   ],
   "source": [
    "model.wv.most_similar(\"crusader\")"
   ]
  },
  {
   "cell_type": "code",
   "execution_count": 61,
   "metadata": {
    "execution": {
     "iopub.execute_input": "2022-10-26T03:17:11.414384Z",
     "iopub.status.busy": "2022-10-26T03:17:11.413937Z",
     "iopub.status.idle": "2022-10-26T03:17:11.435083Z",
     "shell.execute_reply": "2022-10-26T03:17:11.433578Z",
     "shell.execute_reply.started": "2022-10-26T03:17:11.414348Z"
    }
   },
   "outputs": [
    {
     "data": {
      "text/plain": [
       "[('tyrant', 0.612069845199585),\n",
       " ('warlord', 0.5712436437606812),\n",
       " ('stronghold', 0.5492900609970093),\n",
       " ('mercenary', 0.5314666628837585),\n",
       " ('warriors', 0.5216918587684631),\n",
       " ('swordsman', 0.5211747288703918),\n",
       " ('warrior', 0.5182107090950012),\n",
       " ('barbarians', 0.5135986804962158),\n",
       " ('conqueror', 0.509844958782196),\n",
       " ('rebellion', 0.5082306861877441)]"
      ]
     },
     "execution_count": 61,
     "metadata": {},
     "output_type": "execute_result"
    }
   ],
   "source": [
    "new_model.wv.most_similar(\"crusader\")"
   ]
  },
  {
   "cell_type": "code",
   "execution_count": 62,
   "metadata": {
    "execution": {
     "iopub.execute_input": "2022-10-26T03:18:39.731467Z",
     "iopub.status.busy": "2022-10-26T03:18:39.731065Z",
     "iopub.status.idle": "2022-10-26T03:18:39.933554Z",
     "shell.execute_reply": "2022-10-26T03:18:39.932036Z",
     "shell.execute_reply.started": "2022-10-26T03:18:39.731436Z"
    }
   },
   "outputs": [],
   "source": [
    "new_model.save(\"./clustering_word2vec.model\")"
   ]
  },
  {
   "cell_type": "code",
   "execution_count": 1,
   "metadata": {
    "execution": {
     "iopub.execute_input": "2022-10-26T04:17:32.230120Z",
     "iopub.status.busy": "2022-10-26T04:17:32.229348Z",
     "iopub.status.idle": "2022-10-26T04:17:32.318106Z",
     "shell.execute_reply": "2022-10-26T04:17:32.316244Z",
     "shell.execute_reply.started": "2022-10-26T04:17:32.230029Z"
    }
   },
   "outputs": [
    {
     "ename": "NameError",
     "evalue": "name 'new_model' is not defined",
     "output_type": "error",
     "traceback": [
      "\u001b[0;31m---------------------------------------------------------------------------\u001b[0m",
      "\u001b[0;31mNameError\u001b[0m                                 Traceback (most recent call last)",
      "\u001b[0;32m/tmp/ipykernel_26/2717790012.py\u001b[0m in \u001b[0;36m<module>\u001b[0;34m\u001b[0m\n\u001b[1;32m      1\u001b[0m \u001b[0;31m# save in binary format\u001b[0m\u001b[0;34m\u001b[0m\u001b[0;34m\u001b[0m\u001b[0;34m\u001b[0m\u001b[0m\n\u001b[0;32m----> 2\u001b[0;31m \u001b[0mnew_model\u001b[0m\u001b[0;34m.\u001b[0m\u001b[0mwv\u001b[0m\u001b[0;34m.\u001b[0m\u001b[0msave_word2vec_format\u001b[0m\u001b[0;34m(\u001b[0m\u001b[0;34m\"clustering_model.bin\"\u001b[0m\u001b[0;34m,\u001b[0m \u001b[0mbinary\u001b[0m\u001b[0;34m=\u001b[0m\u001b[0;32mTrue\u001b[0m\u001b[0;34m)\u001b[0m\u001b[0;34m\u001b[0m\u001b[0;34m\u001b[0m\u001b[0m\n\u001b[0m",
      "\u001b[0;31mNameError\u001b[0m: name 'new_model' is not defined"
     ]
    }
   ],
   "source": [
    "# save in binary format\n",
    "new_model.wv.save_word2vec_format(\"clustering_model.bin\", binary=True)"
   ]
  },
  {
   "cell_type": "markdown",
   "metadata": {},
   "source": [
    "## Training Doc2Vec model on amazon reviews and then fine-tune it on the clustering setences dataset"
   ]
  },
  {
   "cell_type": "code",
   "execution_count": null,
   "metadata": {},
   "outputs": [],
   "source": []
  }
 ],
 "metadata": {
  "kernelspec": {
   "display_name": "Python 3 (ipykernel)",
   "language": "python",
   "name": "python3"
  },
  "language_info": {
   "codemirror_mode": {
    "name": "ipython",
    "version": 3
   },
   "file_extension": ".py",
   "mimetype": "text/x-python",
   "name": "python",
   "nbconvert_exporter": "python",
   "pygments_lexer": "ipython3",
   "version": "3.8.13"
  }
 },
 "nbformat": 4,
 "nbformat_minor": 4
}
